{
  "nbformat": 4,
  "nbformat_minor": 0,
  "metadata": {
    "colab": {
      "provenance": []
    },
    "kernelspec": {
      "name": "python3",
      "display_name": "Python 3"
    },
    "language_info": {
      "name": "python"
    },
    "gpuClass": "standard",
    "accelerator": "GPU"
  },
  "cells": [
    {
      "cell_type": "code",
      "source": [
        "from google.colab import drive\n",
        "drive.mount('/content/gdrive', force_remount=True)"
      ],
      "metadata": {
        "id": "bv2jzDJjTb8w",
        "colab": {
          "base_uri": "https://localhost:8080/"
        },
        "outputId": "7d37dad2-7056-491f-fa31-9367d4fd3f77"
      },
      "execution_count": null,
      "outputs": [
        {
          "output_type": "stream",
          "name": "stdout",
          "text": [
            "Mounted at /content/gdrive\n"
          ]
        }
      ]
    },
    {
      "cell_type": "code",
      "source": [
        "DATADIR = \"/content/gdrive/MyDrive/DL_dataset/observations-master.zip\"\n",
        "CATEGORIES = ['without_mask', 'with_mask']"
      ],
      "metadata": {
        "id": "y5Dds2stTeDB"
      },
      "execution_count": null,
      "outputs": []
    },
    {
      "cell_type": "code",
      "execution_count": null,
      "metadata": {
        "id": "epc5ffUJMYkM"
      },
      "outputs": [],
      "source": [
        "## Importing libraries\n",
        "import pandas as pd\n",
        "import numpy as np\n",
        "import cv2\n",
        "import os\n",
        "import glob\n",
        "from scipy.spatial import distance\n",
        "from sklearn.model_selection import train_test_split\n",
        "from sklearn.metrics import classification_report, confusion_matrix\n",
        "\n",
        "import tensorflow as tf\n",
        "from tensorflow.keras import Sequential, models\n",
        "from tensorflow.keras.layers import Flatten, Dense, Conv2D, MaxPool2D, Dropout, BatchNormalization\n",
        "from tensorflow.keras.optimizers import Adam\n",
        "from keras.preprocessing.image import ImageDataGenerator\n",
        "import matplotlib.pyplot as plt\n",
        "import seaborn as sns"
      ]
    },
    {
      "cell_type": "code",
      "source": [
        "!git clone https://github.com/prajnasb/observations.git"
      ],
      "metadata": {
        "id": "dVmy3DZL4xwS",
        "colab": {
          "base_uri": "https://localhost:8080/"
        },
        "outputId": "dab2f874-2fac-4ab7-a3ba-958fd09b6ae3"
      },
      "execution_count": null,
      "outputs": [
        {
          "output_type": "stream",
          "name": "stdout",
          "text": [
            "Cloning into 'observations'...\n",
            "remote: Enumerating objects: 1638, done.\u001b[K\n",
            "remote: Total 1638 (delta 0), reused 0 (delta 0), pack-reused 1638\u001b[K\n",
            "Receiving objects: 100% (1638/1638), 75.94 MiB | 41.96 MiB/s, done.\n",
            "Resolving deltas: 100% (19/19), done.\n"
          ]
        }
      ]
    },
    {
      "cell_type": "code",
      "source": [
        "data_path = \"/content/observations/experiements/data\""
      ],
      "metadata": {
        "id": "WPYBv3MWT6C9"
      },
      "execution_count": null,
      "outputs": []
    },
    {
      "cell_type": "code",
      "source": [
        "categories=os.listdir(data_path)"
      ],
      "metadata": {
        "id": "TMbuPrdXWg-I"
      },
      "execution_count": null,
      "outputs": []
    },
    {
      "cell_type": "code",
      "source": [
        "print(categories)"
      ],
      "metadata": {
        "id": "73jBgZbzXI3K",
        "colab": {
          "base_uri": "https://localhost:8080/"
        },
        "outputId": "21393c18-0beb-4f36-9a7a-de9e9af907ad"
      },
      "execution_count": null,
      "outputs": [
        {
          "output_type": "stream",
          "name": "stdout",
          "text": [
            "['with_mask', 'without_mask']\n"
          ]
        }
      ]
    },
    {
      "cell_type": "code",
      "source": [
        "labels=[i for i in range(len(categories))]\n",
        "label_dict = dict(zip(categories,labels))"
      ],
      "metadata": {
        "id": "XJUHXiMwXNM1"
      },
      "execution_count": null,
      "outputs": []
    },
    {
      "cell_type": "code",
      "source": [
        "print(label_dict)"
      ],
      "metadata": {
        "id": "k0T332VmXcbR",
        "colab": {
          "base_uri": "https://localhost:8080/"
        },
        "outputId": "38db6c75-2699-46ab-89e2-79deaef477f9"
      },
      "execution_count": null,
      "outputs": [
        {
          "output_type": "stream",
          "name": "stdout",
          "text": [
            "{'with_mask': 0, 'without_mask': 1}\n"
          ]
        }
      ]
    },
    {
      "cell_type": "code",
      "source": [
        "dataset = {\n",
        "    \"image_path\": [],\n",
        "    \"mask_status\": [],\n",
        "}\n",
        "\n",
        "for status in os.listdir(data_path):\n",
        "  for image in glob.glob(data_path+\"/\"+status+\"/\"+\"*.jpg\"):\n",
        "    dataset[\"image_path\"].append(image)\n",
        "    dataset[\"mask_status\"].append(status)\n",
        "            \n",
        "dataset = pd.DataFrame(dataset)\n",
        "dataset.head(10)"
      ],
      "metadata": {
        "id": "YXV3K29NXd0v"
      },
      "execution_count": null,
      "outputs": []
    },
    {
      "cell_type": "code",
      "source": [
        "dataset = dataset.sample(frac=1)\n"
      ],
      "metadata": {
        "id": "w7_LDijGYd5q"
      },
      "execution_count": null,
      "outputs": []
    },
    {
      "cell_type": "code",
      "source": [
        "dataset = dataset.reset_index().drop(\"index\", axis = 1)\n",
        "# dataset.head(10)"
      ],
      "metadata": {
        "id": "-DiPkrwkcDlC"
      },
      "execution_count": null,
      "outputs": []
    },
    {
      "cell_type": "code",
      "source": [
        "data = []\n",
        "image_size = 100\n",
        "\n",
        "for i in range(len(dataset)):\n",
        "    ## Converting the image into grayscale\n",
        "    img_array = cv2.imread(dataset[\"image_path\"][i])\n",
        "    #img_array = cv2.cvtColor(img_array,cv2.COLOR_BGR2GRAY)\n",
        "    ## Resizing the array\n",
        "    new_image_array = cv2.resize(img_array, (image_size, image_size))\n",
        "    ## Normalize\n",
        "    #norm_image = cv2.normalize(new_image_array, None, alpha=0, beta=1, norm_type=cv2.NORM_MINMAX, dtype=cv2.CV_32F)\n",
        "    ## reshaping image\n",
        "    #norm_image=np.reshape(norm_image,(norm_image.shape[0],image_size,image_size,1))\n",
        "    ##Encoding the image with the label\n",
        "    if dataset[\"mask_status\"][i] == \"with_mask\":\n",
        "        data.append([new_image_array, [1,0]])\n",
        "    else:\n",
        "        data.append([new_image_array, [0,1]])"
      ],
      "metadata": {
        "id": "6mVuGwEAY7f7"
      },
      "execution_count": null,
      "outputs": []
    },
    {
      "cell_type": "code",
      "source": [
        "X = []\n",
        "y = []\n",
        "\n",
        "## Seperating X and y\n",
        "for image in data:\n",
        "    X.append(image[0])\n",
        "    y.append(image[1])\n",
        "    \n",
        "## Converting X and y to numpy array as Tensorflow accepts only numpy arrays\n",
        "X = np.array(X)\n",
        "y = np.array(y)"
      ],
      "metadata": {
        "id": "Ulo_serBj18d"
      },
      "execution_count": null,
      "outputs": []
    },
    {
      "cell_type": "code",
      "source": [
        "X = X/255"
      ],
      "metadata": {
        "id": "w5F00oW9kUiD"
      },
      "execution_count": null,
      "outputs": []
    },
    {
      "cell_type": "code",
      "source": [
        "X=np.reshape(X,(X.shape[0],100,100,1))"
      ],
      "metadata": {
        "id": "CuJyD6JKk7RN"
      },
      "execution_count": null,
      "outputs": []
    },
    {
      "cell_type": "code",
      "source": [
        "X.shape[1:]"
      ],
      "metadata": {
        "id": "LqQctq8elJOK",
        "colab": {
          "base_uri": "https://localhost:8080/"
        },
        "outputId": "d757f96e-0830-465e-9457-a44164b415b9"
      },
      "execution_count": null,
      "outputs": [
        {
          "output_type": "execute_result",
          "data": {
            "text/plain": [
              "(100, 100, 1)"
            ]
          },
          "metadata": {},
          "execution_count": 21
        }
      ]
    },
    {
      "cell_type": "code",
      "source": [
        "image = tf.keras.preprocessing.image.ImageDataGenerator(\n",
        "    rotation_range=15, \n",
        "    width_shift_range=0.2,\n",
        "    height_shift_range=0.2,\n",
        "    zoom_range=0.2,\n",
        "    fill_mode='nearest',\n",
        "    horizontal_flip=True,\n",
        "    validation_split=0.2)\n",
        "image.fit(X)"
      ],
      "metadata": {
        "id": "IVmKLFbkytUa"
      },
      "execution_count": null,
      "outputs": []
    },
    {
      "cell_type": "code",
      "source": [
        "X.shape"
      ],
      "metadata": {
        "id": "tug37c83zK65",
        "colab": {
          "base_uri": "https://localhost:8080/"
        },
        "outputId": "82353650-29f7-4970-8a23-00ffbde89434"
      },
      "execution_count": null,
      "outputs": [
        {
          "output_type": "execute_result",
          "data": {
            "text/plain": [
              "(1376, 100, 100, 3)"
            ]
          },
          "metadata": {},
          "execution_count": 17
        }
      ]
    },
    {
      "cell_type": "code",
      "source": [
        "y.shape"
      ],
      "metadata": {
        "id": "n68BEsSvzVjQ",
        "colab": {
          "base_uri": "https://localhost:8080/"
        },
        "outputId": "352c11ea-4604-4246-d49c-0f91dfd9e650"
      },
      "execution_count": null,
      "outputs": [
        {
          "output_type": "execute_result",
          "data": {
            "text/plain": [
              "(1376, 2)"
            ]
          },
          "metadata": {},
          "execution_count": 19
        }
      ]
    },
    {
      "cell_type": "code",
      "source": [
        "model = Sequential()\n",
        "model.add(Conv2D(200, (3, 3), activation = \"relu\", input_shape=(100, 100,3)))\n",
        "model.add(MaxPool2D(pool_size=(3, 3)))\n",
        "model.add(Conv2D(200, (3, 3), activation = \"relu\"))\n",
        "model.add(MaxPool2D(pool_size=(3, 3)))\n",
        "model.add(Dropout(0.5))\n",
        "model.add(Conv2D(100, (3, 3), activation = \"relu\"))\n",
        "model.add(MaxPool2D(pool_size=(3, 3)))\n",
        "model.add(Flatten())\n",
        "model.add(Dropout(0.5))\n",
        "model.add(Dense(64, activation = \"relu\"))\n",
        "model.add(Dense(2, activation = \"softmax\"))"
      ],
      "metadata": {
        "id": "0yiHZAgkd_8E"
      },
      "execution_count": null,
      "outputs": []
    },
    {
      "cell_type": "code",
      "source": [
        "model.summary()"
      ],
      "metadata": {
        "id": "JB1k14ouh6LF"
      },
      "execution_count": null,
      "outputs": []
    },
    {
      "cell_type": "code",
      "source": [
        "tf.keras.utils.plot_model(model)"
      ],
      "metadata": {
        "id": "aG6QzLckid4C"
      },
      "execution_count": null,
      "outputs": []
    },
    {
      "cell_type": "code",
      "source": [
        "opt = Adam(learning_rate=0.001)"
      ],
      "metadata": {
        "id": "O6RBOargf0CJ"
      },
      "execution_count": null,
      "outputs": []
    },
    {
      "cell_type": "code",
      "source": [
        "checkpoint_filepath = 'TrainedModels/Models/weights.{epoch:02d}-{val_accuracy:.4f}.h5'\n",
        "model_checkpoint_callback = tf.keras.callbacks.ModelCheckpoint(\n",
        "    filepath=checkpoint_filepath,\n",
        "    monitor='val_accuracy',\n",
        "    mode='max',\n",
        "    save_best_only=True)"
      ],
      "metadata": {
        "id": "IL7cZQsG1bi-"
      },
      "execution_count": null,
      "outputs": []
    },
    {
      "cell_type": "code",
      "source": [
        "model.compile(loss=\"binary_crossentropy\", optimizer=opt, metrics=[\"accuracy\"])"
      ],
      "metadata": {
        "id": "GxVaIcGXfPw2"
      },
      "execution_count": null,
      "outputs": []
    },
    {
      "cell_type": "code",
      "source": [
        "X_train, X_test, y_train, y_test = train_test_split(X, y, test_size = 0.2, random_state = 42)"
      ],
      "metadata": {
        "id": "wtRcw97lgVh4"
      },
      "execution_count": null,
      "outputs": []
    },
    {
      "cell_type": "code",
      "source": [
        "history = model.fit(\n",
        "    image.flow(X_train, y_train,batch_size=32, subset='training'),\n",
        "    epochs=20, \n",
        "    batch_size = 32,\n",
        "    validation_data=image.flow(X_train,y_train,batch_size=32,subset='validation'),\n",
        "    shuffle=True, \n",
        "    callbacks = model_checkpoint_callback)"
      ],
      "metadata": {
        "id": "e3EmB1p_lgGw",
        "colab": {
          "base_uri": "https://localhost:8080/"
        },
        "outputId": "2aae4d50-7655-48c1-854b-06451cbe8112"
      },
      "execution_count": null,
      "outputs": [
        {
          "output_type": "stream",
          "name": "stdout",
          "text": [
            "Epoch 1/20\n",
            "28/28 [==============================] - 14s 150ms/step - loss: 0.6776 - accuracy: 0.5705 - val_loss: 0.6289 - val_accuracy: 0.5500\n",
            "Epoch 2/20\n",
            "28/28 [==============================] - 3s 104ms/step - loss: 0.4688 - accuracy: 0.8000 - val_loss: 0.3737 - val_accuracy: 0.8409\n",
            "Epoch 3/20\n",
            "28/28 [==============================] - 3s 99ms/step - loss: 0.3762 - accuracy: 0.8523 - val_loss: 0.3243 - val_accuracy: 0.9045\n",
            "Epoch 4/20\n",
            "28/28 [==============================] - 3s 100ms/step - loss: 0.3153 - accuracy: 0.8841 - val_loss: 0.2767 - val_accuracy: 0.8909\n",
            "Epoch 5/20\n",
            "28/28 [==============================] - 3s 99ms/step - loss: 0.3053 - accuracy: 0.8920 - val_loss: 0.1626 - val_accuracy: 0.9545\n",
            "Epoch 6/20\n",
            "28/28 [==============================] - 3s 97ms/step - loss: 0.2391 - accuracy: 0.9114 - val_loss: 0.2513 - val_accuracy: 0.8909\n",
            "Epoch 7/20\n",
            "28/28 [==============================] - 3s 98ms/step - loss: 0.2131 - accuracy: 0.9205 - val_loss: 0.1402 - val_accuracy: 0.9500\n",
            "Epoch 8/20\n",
            "28/28 [==============================] - 3s 97ms/step - loss: 0.2050 - accuracy: 0.9284 - val_loss: 0.1936 - val_accuracy: 0.9409\n",
            "Epoch 9/20\n",
            "28/28 [==============================] - 3s 97ms/step - loss: 0.1919 - accuracy: 0.9330 - val_loss: 0.1204 - val_accuracy: 0.9682\n",
            "Epoch 10/20\n",
            "28/28 [==============================] - 3s 98ms/step - loss: 0.1642 - accuracy: 0.9375 - val_loss: 0.1618 - val_accuracy: 0.9500\n",
            "Epoch 11/20\n",
            "28/28 [==============================] - 3s 100ms/step - loss: 0.1525 - accuracy: 0.9432 - val_loss: 0.0818 - val_accuracy: 0.9909\n",
            "Epoch 12/20\n",
            "28/28 [==============================] - 3s 95ms/step - loss: 0.1363 - accuracy: 0.9591 - val_loss: 0.1035 - val_accuracy: 0.9727\n",
            "Epoch 13/20\n",
            "28/28 [==============================] - 3s 96ms/step - loss: 0.1092 - accuracy: 0.9659 - val_loss: 0.0780 - val_accuracy: 0.9818\n",
            "Epoch 14/20\n",
            "28/28 [==============================] - 3s 98ms/step - loss: 0.1133 - accuracy: 0.9568 - val_loss: 0.1482 - val_accuracy: 0.9500\n",
            "Epoch 15/20\n",
            "28/28 [==============================] - 3s 99ms/step - loss: 0.1705 - accuracy: 0.9443 - val_loss: 0.0555 - val_accuracy: 0.9864\n",
            "Epoch 16/20\n",
            "28/28 [==============================] - 3s 96ms/step - loss: 0.1224 - accuracy: 0.9580 - val_loss: 0.0860 - val_accuracy: 0.9773\n",
            "Epoch 17/20\n",
            "28/28 [==============================] - 3s 98ms/step - loss: 0.1612 - accuracy: 0.9455 - val_loss: 0.0887 - val_accuracy: 0.9682\n",
            "Epoch 18/20\n",
            "28/28 [==============================] - 3s 97ms/step - loss: 0.0995 - accuracy: 0.9659 - val_loss: 0.1198 - val_accuracy: 0.9682\n",
            "Epoch 19/20\n",
            "28/28 [==============================] - 3s 98ms/step - loss: 0.1202 - accuracy: 0.9557 - val_loss: 0.0882 - val_accuracy: 0.9773\n",
            "Epoch 20/20\n",
            "28/28 [==============================] - 3s 125ms/step - loss: 0.0847 - accuracy: 0.9716 - val_loss: 0.1080 - val_accuracy: 0.9682\n"
          ]
        }
      ]
    },
    {
      "cell_type": "code",
      "source": [
        "N = 20\n",
        "plt.style.use(\"ggplot\")\n",
        "plt.figure()\n",
        "plt.plot(np.arange(0, N), history.history[\"loss\"], label=\"train_loss\")\n",
        "plt.plot(np.arange(0, N), history.history[\"val_loss\"], label=\"val_loss\")\n",
        "plt.title(\"Loss\")\n",
        "plt.xlabel(\"Epoch #\")\n",
        "plt.ylabel(\"Loss\")\n",
        "plt.legend(loc=\"lower left\")\n",
        "plt.style.use(\"ggplot\")\n",
        "plt.figure()\n",
        "plt.plot(np.arange(0, N), history.history[\"accuracy\"], label=\"train_acc\")\n",
        "plt.plot(np.arange(0, N), history.history[\"val_accuracy\"], label=\"val_acc\")\n",
        "plt.title(\"Accuracy\")\n",
        "plt.xlabel(\"Epoch #\")\n",
        "plt.ylabel(\"Accuracy\")\n",
        "plt.legend(loc=\"lower left\")"
      ],
      "metadata": {
        "id": "HBvhe37ir5Tr",
        "outputId": "42ac048c-baea-4b9b-c88b-5e58e11a79de",
        "colab": {
          "base_uri": "https://localhost:8080/",
          "height": 598
        }
      },
      "execution_count": null,
      "outputs": [
        {
          "output_type": "execute_result",
          "data": {
            "text/plain": [
              "<matplotlib.legend.Legend at 0x7ff84d7d37f0>"
            ]
          },
          "metadata": {},
          "execution_count": 23
        },
        {
          "output_type": "display_data",
          "data": {
            "text/plain": [
              "<Figure size 432x288 with 1 Axes>"
            ],
            "image/png": "[encoded data removed]"
          },
          "metadata": {}
        },
        {
          "output_type": "display_data",
          "data": {
            "text/plain": [
              "<Figure size 432x288 with 1 Axes>"
            ],
            "image/png": "[encoded data removed]"
          },
          "metadata": {}
        }
      ]
    },
    {
      "cell_type": "code",
      "source": [
        "print(\"Evaluate\")\n",
        "# result = model.evaluate(image.flow(X_test,y_test,batch_size=32))\n",
        "result = model.evaluate(X_test,y_test)\n",
        "print(result)"
      ],
      "metadata": {
        "id": "DygLeff3bUui",
        "colab": {
          "base_uri": "https://localhost:8080/"
        },
        "outputId": "97696ffa-038a-4c4f-ab4e-78e31cdcc1d6"
      },
      "execution_count": null,
      "outputs": [
        {
          "output_type": "stream",
          "name": "stdout",
          "text": [
            "Evaluate\n",
            "9/9 [==============================] - 0s 17ms/step - loss: 0.0835 - accuracy: 0.9783\n",
            "[0.08351922780275345, 0.97826087474823]\n"
          ]
        }
      ]
    }
  ]
}